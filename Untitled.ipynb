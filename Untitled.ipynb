{
 "cells": [
  {
   "cell_type": "code",
   "execution_count": 1,
   "id": "6f312eb0-3dc7-487f-b8bb-635383259c46",
   "metadata": {},
   "outputs": [],
   "source": [
    "import pandas as pd"
   ]
  },
  {
   "cell_type": "code",
   "execution_count": 2,
   "id": "a5307e17-8655-40fc-b8dc-08d5470d1c20",
   "metadata": {},
   "outputs": [],
   "source": [
    "data= pd.read_csv(\"orders.csv\")"
   ]
  },
  {
   "cell_type": "code",
   "execution_count": 3,
   "id": "17ac5285-8429-493d-a88e-a27afdd8199a",
   "metadata": {},
   "outputs": [
    {
     "name": "stdout",
     "output_type": "stream",
     "text": [
      "                               order_id                       customer_id  \\\n",
      "0      e481f51cbdc54678b7cc49136f2d6af7  9ef432eb6251297304e76186b10a928d   \n",
      "1      53cdb2fc8bc7dce0b6741e2150273451  b0830fb4747a6c6d20dea0b8c802d7ef   \n",
      "2      47770eb9100c2d0c44946d9cf07ec65d  41ce2a54c0b03bf3443c3d931a367089   \n",
      "3      949d5b44dbf5de918fe9c16f97b45f8a  f88197465ea7920adcdbec7375364d82   \n",
      "4      ad21c59c0840e6cb83a9ceb5573f8159  8ab97904e6daea8866dbdbc4fb7aad2c   \n",
      "...                                 ...                               ...   \n",
      "99436  9c5dedf39a927c1b2549525ed64a053c  39bd1228ee8140590ac3aca26f2dfe00   \n",
      "99437  63943bddc261676b46f01ca7ac2f7bd8  1fca14ff2861355f6e5f14306ff977a7   \n",
      "99438  83c1379a015df1e13d02aae0204711ab  1aa71eb042121263aafbe80c1b562c9c   \n",
      "99439  11c177c8e97725db2631073c19f07b62  b331b74b18dc79bcdf6532d51e1637c1   \n",
      "99440  66dea50a8b16d9b4dee7af250b4be1a5  edb027a75a1449115f6b43211ae02a24   \n",
      "\n",
      "      order_status order_purchase_timestamp    order_approved_at  \\\n",
      "0        delivered      2017-10-02 10:56:33  2017-10-02 11:07:15   \n",
      "1        delivered      2018-07-24 20:41:37  2018-07-26 03:24:27   \n",
      "2        delivered      2018-08-08 08:38:49  2018-08-08 08:55:23   \n",
      "3        delivered      2017-11-18 19:28:06  2017-11-18 19:45:59   \n",
      "4        delivered      2018-02-13 21:18:39  2018-02-13 22:20:29   \n",
      "...            ...                      ...                  ...   \n",
      "99436    delivered      2017-03-09 09:54:05  2017-03-09 09:54:05   \n",
      "99437    delivered      2018-02-06 12:58:58  2018-02-06 13:10:37   \n",
      "99438    delivered      2017-08-27 14:46:43  2017-08-27 15:04:16   \n",
      "99439    delivered      2018-01-08 21:28:27  2018-01-08 21:36:21   \n",
      "99440    delivered      2018-03-08 20:57:30  2018-03-09 11:20:28   \n",
      "\n",
      "      order_delivered_carrier_date order_delivered_customer_date  \\\n",
      "0              2017-10-04 19:55:00           2017-10-10 21:25:13   \n",
      "1              2018-07-26 14:31:00           2018-08-07 15:27:45   \n",
      "2              2018-08-08 13:50:00           2018-08-17 18:06:29   \n",
      "3              2017-11-22 13:39:59           2017-12-02 00:28:42   \n",
      "4              2018-02-14 19:46:34           2018-02-16 18:17:02   \n",
      "...                            ...                           ...   \n",
      "99436          2017-03-10 11:18:03           2017-03-17 15:08:01   \n",
      "99437          2018-02-07 23:22:42           2018-02-28 17:37:56   \n",
      "99438          2017-08-28 20:52:26           2017-09-21 11:24:17   \n",
      "99439          2018-01-12 15:35:03           2018-01-25 23:32:54   \n",
      "99440          2018-03-09 22:11:59           2018-03-16 13:08:30   \n",
      "\n",
      "      order_estimated_delivery_date  \n",
      "0               2017-10-18 00:00:00  \n",
      "1               2018-08-13 00:00:00  \n",
      "2               2018-09-04 00:00:00  \n",
      "3               2017-12-15 00:00:00  \n",
      "4               2018-02-26 00:00:00  \n",
      "...                             ...  \n",
      "99436           2017-03-28 00:00:00  \n",
      "99437           2018-03-02 00:00:00  \n",
      "99438           2017-09-27 00:00:00  \n",
      "99439           2018-02-15 00:00:00  \n",
      "99440           2018-04-03 00:00:00  \n",
      "\n",
      "[99441 rows x 8 columns]\n"
     ]
    }
   ],
   "source": [
    "print(data)"
   ]
  },
  {
   "cell_type": "code",
   "execution_count": 4,
   "id": "533521a4-e25c-486b-9c8b-b3c213bfada1",
   "metadata": {},
   "outputs": [
    {
     "name": "stdout",
     "output_type": "stream",
     "text": [
      "<class 'pandas.core.frame.DataFrame'>\n",
      "RangeIndex: 99441 entries, 0 to 99440\n",
      "Data columns (total 8 columns):\n",
      " #   Column                         Non-Null Count  Dtype \n",
      "---  ------                         --------------  ----- \n",
      " 0   order_id                       99441 non-null  object\n",
      " 1   customer_id                    99441 non-null  object\n",
      " 2   order_status                   99441 non-null  object\n",
      " 3   order_purchase_timestamp       99441 non-null  object\n",
      " 4   order_approved_at              99281 non-null  object\n",
      " 5   order_delivered_carrier_date   97658 non-null  object\n",
      " 6   order_delivered_customer_date  96476 non-null  object\n",
      " 7   order_estimated_delivery_date  99441 non-null  object\n",
      "dtypes: object(8)\n",
      "memory usage: 6.1+ MB\n",
      "None\n"
     ]
    }
   ],
   "source": [
    "print(data.info())"
   ]
  },
  {
   "cell_type": "code",
   "execution_count": 10,
   "id": "a408344a-1d91-43c2-a48e-6c1d0a2801b4",
   "metadata": {},
   "outputs": [
    {
     "name": "stdout",
     "output_type": "stream",
     "text": [
      "<class 'pandas.core.frame.DataFrame'>\n",
      "RangeIndex: 99441 entries, 0 to 99440\n",
      "Data columns (total 8 columns):\n",
      " #   Column                         Non-Null Count  Dtype         \n",
      "---  ------                         --------------  -----         \n",
      " 0   order_id                       99441 non-null  object        \n",
      " 1   customer_id                    99441 non-null  object        \n",
      " 2   order_status                   99441 non-null  object        \n",
      " 3   order_purchase_timestamp       99441 non-null  datetime64[ns]\n",
      " 4   order_approved_at              99281 non-null  object        \n",
      " 5   order_delivered_carrier_date   97658 non-null  object        \n",
      " 6   order_delivered_customer_date  96476 non-null  datetime64[ns]\n",
      " 7   order_estimated_delivery_date  99441 non-null  object        \n",
      "dtypes: datetime64[ns](2), object(6)\n",
      "memory usage: 6.1+ MB\n",
      "None\n"
     ]
    }
   ],
   "source": [
    "data[\"order_purchase_timestamp\"] = pd.to_datetime(data[\"order_purchase_timestamp\"])\n",
    "data[\"order_delivered_customer_date\"] = pd.to_datetime(data[\"order_delivered_customer_date\"])\n",
    "print(data.info())\n",
    "#print(data)"
   ]
  },
  {
   "cell_type": "code",
   "execution_count": 12,
   "id": "f04a814b-05a2-4ec4-a8bb-ecc3985c703d",
   "metadata": {},
   "outputs": [
    {
     "name": "stdout",
     "output_type": "stream",
     "text": [
      "<class 'pandas.core.frame.DataFrame'>\n",
      "RangeIndex: 99441 entries, 0 to 99440\n",
      "Data columns (total 11 columns):\n",
      " #   Column                         Non-Null Count  Dtype         \n",
      "---  ------                         --------------  -----         \n",
      " 0   order_id                       99441 non-null  object        \n",
      " 1   customer_id                    99441 non-null  object        \n",
      " 2   order_status                   99441 non-null  object        \n",
      " 3   order_purchase_timestamp       99441 non-null  datetime64[ns]\n",
      " 4   order_approved_at              99281 non-null  object        \n",
      " 5   order_delivered_carrier_date   97658 non-null  object        \n",
      " 6   order_delivered_customer_date  96476 non-null  datetime64[ns]\n",
      " 7   order_estimated_delivery_date  99441 non-null  object        \n",
      " 8   delivery_Month                 99441 non-null  int32         \n",
      " 9   delivery_Year                  99441 non-null  int32         \n",
      " 10  delivery_Day                   99441 non-null  int32         \n",
      "dtypes: datetime64[ns](2), int32(3), object(6)\n",
      "memory usage: 7.2+ MB\n",
      "None\n"
     ]
    }
   ],
   "source": [
    "data[\"delivery_Month\"]= data[\"order_purchase_timestamp\"].dt.month\n",
    "data[\"delivery_Year\"] = data[\"order_purchase_timestamp\"].dt.year\n",
    "data[\"delivery_Day\"] = data[\"order_purchase_timestamp\"].dt.dayofweek\n",
    "\n",
    "print(data.info())"
   ]
  },
  {
   "cell_type": "code",
   "execution_count": 16,
   "id": "7002e42e-e027-4a1e-a823-a16e2f669e97",
   "metadata": {},
   "outputs": [
    {
     "name": "stdout",
     "output_type": "stream",
     "text": [
      "                                                       customer_id\n",
      "order_id                                                          \n",
      "00010242fe8c5a6d1ba2dd792cb16214  3ce436f183e68e07877b285a838db11a\n",
      "00018f77f2f0320c557190d7a144bdd3  f6dd3ec061db4e3987629fe6b26e5cce\n",
      "000229ec398224ef6ca0657da4fc703e  6489ae5e4333f3693df5ad4372dab6d3\n",
      "00024acbcdf0a6daa1e931b038114c75  d4eb9395c8c0431ee92fce09860c5a06\n",
      "00042b26cf59d7ce69dfabb4e55b4fd9  58dbd0b2d70206bf40e62cd34e84d795\n",
      "...                                                            ...\n",
      "fffc94f6ce00a00581880bf54a75a037  b51593916b4b8e0d6f66f2ae24f2673d\n",
      "fffcd46ef2263f404302a634eb57f7eb  84c5d4fbaf120aae381fad077416eaa0\n",
      "fffce4705a9662cd70adb13d4a31832d  29309aa813182aaddc9b259e31b870e6\n",
      "fffe18544ffabc95dfada21779c9644f  b5e6afd5a41800fdf401e0272ca74655\n",
      "fffe41c64501cc87c801fd61db3f6244  96d649da0cc4ff33bb408b199d4c7dcf\n",
      "\n",
      "[99441 rows x 1 columns]\n"
     ]
    }
   ],
   "source": [
    "gp = data.groupby(\"order_id\").agg({\"customer_id\": \"max\"})\n",
    "print(gp)"
   ]
  },
  {
   "cell_type": "code",
   "execution_count": null,
   "id": "0c62c432-9f22-4e33-a212-883668fe2b7f",
   "metadata": {},
   "outputs": [],
   "source": []
  }
 ],
 "metadata": {
  "kernelspec": {
   "display_name": "Python 3 (ipykernel)",
   "language": "python",
   "name": "python3"
  },
  "language_info": {
   "codemirror_mode": {
    "name": "ipython",
    "version": 3
   },
   "file_extension": ".py",
   "mimetype": "text/x-python",
   "name": "python",
   "nbconvert_exporter": "python",
   "pygments_lexer": "ipython3",
   "version": "3.13.2"
  }
 },
 "nbformat": 4,
 "nbformat_minor": 5
}
