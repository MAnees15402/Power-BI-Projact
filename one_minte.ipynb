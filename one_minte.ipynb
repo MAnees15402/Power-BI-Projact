{
 "cells": [
  {
   "cell_type": "code",
   "execution_count": 47,
   "id": "cf62faf5-96cb-46b8-8760-da9a583345c4",
   "metadata": {},
   "outputs": [
    {
     "name": "stdout",
     "output_type": "stream",
     "text": [
      "<class 'pandas.core.frame.DataFrame'>\n",
      "RangeIndex: 99441 entries, 0 to 99440\n",
      "Data columns (total 5 columns):\n",
      " #   Column                    Non-Null Count  Dtype \n",
      "---  ------                    --------------  ----- \n",
      " 0   customer_id               99441 non-null  object\n",
      " 1   customer_unique_id        99441 non-null  object\n",
      " 2   customer_zip_code_prefix  99441 non-null  int64 \n",
      " 3   customer_city             99441 non-null  object\n",
      " 4   customer_state            99441 non-null  object\n",
      "dtypes: int64(1), object(4)\n",
      "memory usage: 3.8+ MB\n",
      "None\n"
     ]
    }
   ],
   "source": [
    "import pandas as pd\n",
    "\n",
    "data = pd.read_csv('customers.csv')\n",
    "#print(data)\n",
    "#print(data.head(8))\n",
    "print(data.info())"
   ]
  },
  {
   "cell_type": "code",
   "execution_count": 43,
   "id": "35fde118-8cac-4e12-a456-14b3441c6a55",
   "metadata": {},
   "outputs": [
    {
     "name": "stdout",
     "output_type": "stream",
     "text": [
      "                                order_id                       customer_id  \\\n",
      "count                              99441                             99441   \n",
      "unique                             99441                             99441   \n",
      "top     66dea50a8b16d9b4dee7af250b4be1a5  edb027a75a1449115f6b43211ae02a24   \n",
      "freq                                   1                                 1   \n",
      "\n",
      "       order_status order_purchase_timestamp    order_approved_at  \\\n",
      "count         99441                    99441                99281   \n",
      "unique            8                    98875                90733   \n",
      "top       delivered      2018-08-02 12:05:26  2018-02-27 04:31:10   \n",
      "freq          96478                        3                    9   \n",
      "\n",
      "       order_delivered_carrier_date order_delivered_customer_date  \\\n",
      "count                         97658                         96476   \n",
      "unique                        81018                         95664   \n",
      "top             2018-05-09 15:48:00           2018-05-08 19:36:48   \n",
      "freq                             47                             3   \n",
      "\n",
      "       order_estimated_delivery_date  \n",
      "count                          99441  \n",
      "unique                           459  \n",
      "top              2017-12-20 00:00:00  \n",
      "freq                             522  \n",
      "order_id                            0\n",
      "customer_id                         0\n",
      "order_status                        0\n",
      "order_purchase_timestamp            0\n",
      "order_approved_at                 160\n",
      "order_delivered_carrier_date     1783\n",
      "order_delivered_customer_date    2965\n",
      "order_estimated_delivery_date       0\n",
      "dtype: int64\n"
     ]
    }
   ],
   "source": [
    "print(data.describe())\n",
    "print(data.isnull().sum())"
   ]
  },
  {
   "cell_type": "code",
   "execution_count": 48,
   "id": "284744e5-3db4-48d4-8384-fadb0faf8a46",
   "metadata": {},
   "outputs": [
    {
     "name": "stdout",
     "output_type": "stream",
     "text": [
      "                            customer_id                customer_unique_id  \\\n",
      "0      06b8999e2fba1a1fbc88172c00ba8bc7  861eff4711a542e4b93843c6dd7febb0   \n",
      "1      18955e83d337fd6b2def6b18a428ac77  290c77bc529b7ac935b93aa66c333dc3   \n",
      "2      4e7b3e00288586ebd08712fdd0374a03  060e732b5b29e8181a18229c7b0b2b5e   \n",
      "3      b2b6027bc5c5109e529d4dc6358b12c3  259dac757896d24d7702b9acbbff3f3c   \n",
      "4      4f2d8ab171c80ec8364f7c12e35b23ad  345ecd01c38d18a9036ed96c73b8d066   \n",
      "...                                 ...                               ...   \n",
      "99436  17ddf5dd5d51696bb3d7c6291687be6f  1a29b476fee25c95fbafc67c5ac95cf8   \n",
      "99437  e7b71a9017aa05c9a7fd292d714858e8  d52a67c98be1cf6a5c84435bd38d095d   \n",
      "99438  5e28dfe12db7fb50a4b2f691faecea5e  e9f50caf99f032f0bf3c55141f019d99   \n",
      "99439  56b18e2166679b8a959d72dd06da27f9  73c2643a0a458b49f58cea58833b192e   \n",
      "99440  274fa6071e5e17fe303b9748641082c8  84732c5050c01db9b23e19ba39899398   \n",
      "\n",
      "       customer_zip_code_prefix          customer_city customer_state  \\\n",
      "0                         14409                 franca             SP   \n",
      "1                          9790  sao bernardo do campo             SP   \n",
      "2                          1151              sao paulo             SP   \n",
      "3                          8775        mogi das cruzes             SP   \n",
      "4                         13056               campinas             SP   \n",
      "...                         ...                    ...            ...   \n",
      "99436                      3937              sao paulo             SP   \n",
      "99437                      6764        taboao da serra             SP   \n",
      "99438                     60115              fortaleza             CE   \n",
      "99439                     92120                 canoas             RS   \n",
      "99440                      6703                  cotia             SP   \n",
      "\n",
      "                     State_City  \n",
      "0                     franca_SP  \n",
      "1      sao bernardo do campo_SP  \n",
      "2                  sao paulo_SP  \n",
      "3            mogi das cruzes_SP  \n",
      "4                   campinas_SP  \n",
      "...                         ...  \n",
      "99436              sao paulo_SP  \n",
      "99437        taboao da serra_SP  \n",
      "99438              fortaleza_CE  \n",
      "99439                 canoas_RS  \n",
      "99440                  cotia_SP  \n",
      "\n",
      "[99441 rows x 6 columns]\n"
     ]
    }
   ],
   "source": [
    "data[\"State_City\"] = data[\"customer_city\"] +\"_\"+ data[\"customer_state\"]\n",
    "print(data)"
   ]
  },
  {
   "cell_type": "code",
   "execution_count": 30,
   "id": "4ce39524-2ad3-4cc2-bd2c-8c812b120d9d",
   "metadata": {},
   "outputs": [
    {
     "name": "stdout",
     "output_type": "stream",
     "text": [
      "                             seller_id  seller_zip_code_prefix  \\\n",
      "0     3442f8959a84dea7ee197c632cb2df15                   13023   \n",
      "1     d1b65fc7debc3361ea86b5f14c68d2e2                   13844   \n",
      "2     ce3ad9de960102d0677a81f5d0bb7b2d                   20031   \n",
      "3     c0f3eea2e14555b6faeea3dd58c1b1c3                    4195   \n",
      "4     51a04a8a6bdcb23deccc82b0b80742cf                   12914   \n",
      "...                                ...                     ...   \n",
      "3090  98dddbc4601dd4443ca174359b237166                   87111   \n",
      "3091  f8201cab383e484733266d1906e2fdfa                   88137   \n",
      "3092  74871d19219c7d518d0090283e03c137                    4650   \n",
      "3093  e603cf3fec55f8697c9059638d6c8eb5                   96080   \n",
      "3094  9e25199f6ef7e7c347120ff175652c3b                   12051   \n",
      "\n",
      "            seller_city seller_state  \n",
      "0              campinas           SP  \n",
      "1            mogi guacu           SP  \n",
      "2        rio de janeiro           RJ  \n",
      "3             sao paulo           SP  \n",
      "4     braganca paulista           SP  \n",
      "...                 ...          ...  \n",
      "3090            sarandi           PR  \n",
      "3091            palhoca           SC  \n",
      "3092          sao paulo           SP  \n",
      "3093            pelotas           RS  \n",
      "3094            taubate           SP  \n",
      "\n",
      "[3095 rows x 4 columns]\n"
     ]
    }
   ],
   "source": [
    "Data = pd.read_csv(\"sellers.csv\")\n",
    "\n",
    "print(Data)\n"
   ]
  },
  {
   "cell_type": "code",
   "execution_count": 31,
   "id": "287b1d18-e1da-4154-90b3-c7046ef8b4a9",
   "metadata": {},
   "outputs": [
    {
     "name": "stdout",
     "output_type": "stream",
     "text": [
      "       seller_zip_code_prefix\n",
      "count             3095.000000\n",
      "mean             32291.059451\n",
      "std              32713.453830\n",
      "min               1001.000000\n",
      "25%               7093.500000\n",
      "50%              14940.000000\n",
      "75%              64552.500000\n",
      "max              99730.000000\n"
     ]
    }
   ],
   "source": [
    "print(Data.describe())"
   ]
  },
  {
   "cell_type": "code",
   "execution_count": 32,
   "id": "084a16fb-091e-4e81-b34f-107e3901ae0c",
   "metadata": {},
   "outputs": [
    {
     "name": "stdout",
     "output_type": "stream",
     "text": [
      "<class 'pandas.core.frame.DataFrame'>\n",
      "RangeIndex: 3095 entries, 0 to 3094\n",
      "Data columns (total 4 columns):\n",
      " #   Column                  Non-Null Count  Dtype \n",
      "---  ------                  --------------  ----- \n",
      " 0   seller_id               3095 non-null   object\n",
      " 1   seller_zip_code_prefix  3095 non-null   int64 \n",
      " 2   seller_city             3095 non-null   object\n",
      " 3   seller_state            3095 non-null   object\n",
      "dtypes: int64(1), object(3)\n",
      "memory usage: 96.8+ KB\n",
      "None\n"
     ]
    }
   ],
   "source": [
    "print(Data.info())"
   ]
  },
  {
   "cell_type": "code",
   "execution_count": 34,
   "id": "786aac19-34f8-4e3b-b82e-ad3fe0da7d80",
   "metadata": {},
   "outputs": [
    {
     "name": "stdout",
     "output_type": "stream",
     "text": [
      "seller_id                 0\n",
      "seller_zip_code_prefix    0\n",
      "seller_city               0\n",
      "seller_state              0\n",
      "dtype: int64\n"
     ]
    }
   ],
   "source": [
    "print(Data.isnull().sum())"
   ]
  },
  {
   "cell_type": "code",
   "execution_count": null,
   "id": "07b309f9-825a-4b84-8ed3-b8bb75197b7a",
   "metadata": {},
   "outputs": [],
   "source": []
  }
 ],
 "metadata": {
  "kernelspec": {
   "display_name": "Python 3 (ipykernel)",
   "language": "python",
   "name": "python3"
  },
  "language_info": {
   "codemirror_mode": {
    "name": "ipython",
    "version": 3
   },
   "file_extension": ".py",
   "mimetype": "text/x-python",
   "name": "python",
   "nbconvert_exporter": "python",
   "pygments_lexer": "ipython3",
   "version": "3.13.2"
  }
 },
 "nbformat": 4,
 "nbformat_minor": 5
}
